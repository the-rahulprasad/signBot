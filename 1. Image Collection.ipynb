{
 "cells": [
  {
   "cell_type": "markdown",
   "metadata": {},
   "source": [
    "# 1. Import Dependencies"
   ]
  },
  {
   "cell_type": "code",
   "execution_count": 2,
   "metadata": {},
   "outputs": [
    {
     "name": "stdout",
     "output_type": "stream",
     "text": [
      "Requirement already satisfied: opencv-python in d:\\anaconda\\lib\\site-packages (4.6.0.66)\n",
      "Requirement already satisfied: numpy>=1.19.3 in d:\\anaconda\\lib\\site-packages (from opencv-python) (1.23.5)\n"
     ]
    }
   ],
   "source": [
    "!pip install opencv-python"
   ]
  },
  {
   "cell_type": "code",
   "execution_count": 3,
   "metadata": {},
   "outputs": [],
   "source": [
    "# Import opencv\n",
    "import cv2 \n",
    "\n",
    "# Import uuid\n",
    "import uuid\n",
    "\n",
    "# Import Operating System\n",
    "import os\n",
    "\n",
    "# Import time\n",
    "import time"
   ]
  },
  {
   "cell_type": "markdown",
   "metadata": {},
   "source": [
    "# 2. Define Images to Collect"
   ]
  },
  {
   "cell_type": "code",
   "execution_count": 18,
   "metadata": {},
   "outputs": [],
   "source": [
    "labels = ['thumbsup', 'thumbsdown', 'livelong']\n",
    "number_imgs = 12"
   ]
  },
  {
   "cell_type": "markdown",
   "metadata": {},
   "source": [
    "# 3. Setup Folders "
   ]
  },
  {
   "cell_type": "code",
   "execution_count": 19,
   "metadata": {},
   "outputs": [],
   "source": [
    "IMAGES_PATH = os.path.join('Tensorflow', 'workspace', 'images', 'collectedimages')"
   ]
  },
  {
   "cell_type": "code",
   "execution_count": 20,
   "metadata": {},
   "outputs": [],
   "source": [
    "if not os.path.exists(IMAGES_PATH):\n",
    "    if os.name == 'posix':\n",
    "        !mkdir -p {IMAGES_PATH}\n",
    "    if os.name == 'nt':\n",
    "         !mkdir {IMAGES_PATH}\n",
    "for label in labels:\n",
    "    path = os.path.join(IMAGES_PATH, label)\n",
    "    if not os.path.exists(path):\n",
    "        !mkdir {path}"
   ]
  },
  {
   "cell_type": "markdown",
   "metadata": {},
   "source": [
    "# 4. Capture Images"
   ]
  },
  {
   "cell_type": "code",
   "execution_count": 21,
   "metadata": {},
   "outputs": [
    {
     "name": "stdout",
     "output_type": "stream",
     "text": [
      "Collecting images for thumbsup\n",
      "Collecting image 0\n",
      "Collecting image 1\n",
      "Collecting image 2\n",
      "Collecting image 3\n",
      "Collecting image 4\n",
      "Collecting image 5\n",
      "Collecting image 6\n",
      "Collecting image 7\n",
      "Collecting image 8\n",
      "Collecting image 9\n",
      "Collecting image 10\n",
      "Collecting image 11\n",
      "Collecting images for thumbsdown\n",
      "Collecting image 0\n",
      "Collecting image 1\n",
      "Collecting image 2\n",
      "Collecting image 3\n",
      "Collecting image 4\n",
      "Collecting image 5\n",
      "Collecting image 6\n",
      "Collecting image 7\n",
      "Collecting image 8\n",
      "Collecting image 9\n",
      "Collecting image 10\n",
      "Collecting image 11\n",
      "Collecting images for livelong\n",
      "Collecting image 0\n",
      "Collecting image 1\n",
      "Collecting image 2\n",
      "Collecting image 3\n",
      "Collecting image 4\n",
      "Collecting image 5\n",
      "Collecting image 6\n",
      "Collecting image 7\n",
      "Collecting image 8\n",
      "Collecting image 9\n",
      "Collecting image 10\n",
      "Collecting image 11\n"
     ]
    }
   ],
   "source": [
    "for label in labels:\n",
    "    cap = cv2.VideoCapture(1)\n",
    "    print('Collecting images for {}'.format(label))\n",
    "    time.sleep(5)\n",
    "    for imgnum in range(number_imgs):\n",
    "        print('Collecting image {}'.format(imgnum))\n",
    "        ret, frame = cap.read()\n",
    "        imgname = os.path.join(IMAGES_PATH,label,label+'.'+'{}.jpg'.format(str(uuid.uuid1())))\n",
    "        cv2.imwrite(imgname, frame)\n",
    "        cv2.imshow('frame', frame)\n",
    "        time.sleep(2)\n",
    "\n",
    "        if cv2.waitKey(1) & 0xFF == ord('q'):\n",
    "            break\n",
    "cap.release()\n",
    "cv2.destroyAllWindows()"
   ]
  },
  {
   "cell_type": "markdown",
   "metadata": {},
   "source": [
    "# 5. Image Labelling"
   ]
  },
  {
   "cell_type": "code",
   "execution_count": 9,
   "metadata": {},
   "outputs": [
    {
     "name": "stdout",
     "output_type": "stream",
     "text": [
      "Requirement already satisfied: pyqt5 in d:\\anaconda\\lib\\site-packages (5.15.9)\n",
      "Requirement already satisfied: lxml in d:\\anaconda\\lib\\site-packages (4.9.2)\n",
      "Requirement already satisfied: PyQt5-Qt5>=5.15.2 in d:\\anaconda\\lib\\site-packages (from pyqt5) (5.15.2)\n",
      "Requirement already satisfied: PyQt5-sip<13,>=12.11 in d:\\anaconda\\lib\\site-packages (from pyqt5) (12.11.0)\n"
     ]
    },
    {
     "name": "stderr",
     "output_type": "stream",
     "text": [
      "WARNING: Retrying (Retry(total=4, connect=None, read=None, redirect=None, status=None)) after connection broken by 'ReadTimeoutError(\"HTTPSConnectionPool(host='pypi.org', port=443): Read timed out. (read timeout=15)\")': /simple/pyqt5/\n",
      "WARNING: Retrying (Retry(total=3, connect=None, read=None, redirect=None, status=None)) after connection broken by 'ReadTimeoutError(\"HTTPSConnectionPool(host='pypi.org', port=443): Read timed out. (read timeout=15)\")': /simple/pyqt5/\n",
      "WARNING: Retrying (Retry(total=2, connect=None, read=None, redirect=None, status=None)) after connection broken by 'ReadTimeoutError(\"HTTPSConnectionPool(host='pypi.org', port=443): Read timed out. (read timeout=15)\")': /simple/pyqt5/\n",
      "WARNING: Retrying (Retry(total=1, connect=None, read=None, redirect=None, status=None)) after connection broken by 'ReadTimeoutError(\"HTTPSConnectionPool(host='pypi.org', port=443): Read timed out. (read timeout=15)\")': /simple/pyqt5/\n",
      "WARNING: Retrying (Retry(total=0, connect=None, read=None, redirect=None, status=None)) after connection broken by 'ReadTimeoutError(\"HTTPSConnectionPool(host='pypi.org', port=443): Read timed out. (read timeout=15)\")': /simple/pyqt5/\n",
      "WARNING: Retrying (Retry(total=4, connect=None, read=None, redirect=None, status=None)) after connection broken by 'ReadTimeoutError(\"HTTPSConnectionPool(host='pypi.org', port=443): Read timed out. (read timeout=15)\")': /simple/lxml/\n",
      "WARNING: Retrying (Retry(total=3, connect=None, read=None, redirect=None, status=None)) after connection broken by 'ReadTimeoutError(\"HTTPSConnectionPool(host='pypi.org', port=443): Read timed out. (read timeout=15)\")': /simple/lxml/\n",
      "WARNING: Retrying (Retry(total=2, connect=None, read=None, redirect=None, status=None)) after connection broken by 'ReadTimeoutError(\"HTTPSConnectionPool(host='pypi.org', port=443): Read timed out. (read timeout=15)\")': /simple/lxml/\n",
      "WARNING: Retrying (Retry(total=1, connect=None, read=None, redirect=None, status=None)) after connection broken by 'ProtocolError('Connection aborted.', ConnectionResetError(10054, 'An existing connection was forcibly closed by the remote host', None, 10054, None))': /simple/lxml/\n"
     ]
    }
   ],
   "source": [
    "!pip install --upgrade pyqt5 lxml"
   ]
  },
  {
   "cell_type": "code",
   "execution_count": 10,
   "metadata": {},
   "outputs": [],
   "source": [
    "LABELIMG_PATH = os.path.join('Tensorflow', 'labelimg')"
   ]
  },
  {
   "cell_type": "code",
   "execution_count": 11,
   "metadata": {},
   "outputs": [
    {
     "name": "stderr",
     "output_type": "stream",
     "text": [
      "Cloning into 'Tensorflow\\labelimg'...\n"
     ]
    }
   ],
   "source": [
    "if not os.path.exists(LABELIMG_PATH):\n",
    "    !mkdir {LABELIMG_PATH}\n",
    "    !git clone https://github.com/tzutalin/labelImg {LABELIMG_PATH}"
   ]
  },
  {
   "cell_type": "code",
   "execution_count": 12,
   "metadata": {},
   "outputs": [],
   "source": [
    "if os.name == 'posix':\n",
    "    !make qt5py3\n",
    "if os.name =='nt':\n",
    "    !cd {LABELIMG_PATH} && pyrcc5 -o libs/resources.py resources.qrc"
   ]
  },
  {
   "cell_type": "code",
   "execution_count": 22,
   "metadata": {},
   "outputs": [
    {
     "name": "stdout",
     "output_type": "stream",
     "text": [
      "Image:E:\\Jupyter Notes\\Soft Computing\\TFOD\\TFODCourse\\Tensorflow\\workspace\\images\\collectedimages\\livelong\\livelong.a3e1064e-c67a-11ed-9221-50e08548f87c.jpg -> Annotation:E:/Jupyter Notes/Soft Computing/TFOD/TFODCourse/Tensorflow/workspace/images/collectedimages\\livelong.a3e1064e-c67a-11ed-9221-50e08548f87c.xml\n",
      "Image:E:\\Jupyter Notes\\Soft Computing\\TFOD\\TFODCourse\\Tensorflow\\workspace\\images\\collectedimages\\livelong\\livelong.a8b9b612-c67a-11ed-9348-50e08548f87c.jpg -> Annotation:E:/Jupyter Notes/Soft Computing/TFOD/TFODCourse/Tensorflow/workspace/images/collectedimages\\livelong.a8b9b612-c67a-11ed-9348-50e08548f87c.xml\n",
      "Image:E:\\Jupyter Notes\\Soft Computing\\TFOD\\TFODCourse\\Tensorflow\\workspace\\images\\collectedimages\\livelong\\livelong.a9ef7729-c67a-11ed-936d-50e08548f87c.jpg -> Annotation:E:/Jupyter Notes/Soft Computing/TFOD/TFODCourse/Tensorflow/workspace/images/collectedimages\\livelong.a9ef7729-c67a-11ed-936d-50e08548f87c.xml\n",
      "Image:E:\\Jupyter Notes\\Soft Computing\\TFOD\\TFODCourse\\Tensorflow\\workspace\\images\\collectedimages\\livelong\\livelong.a64da4d5-c67a-11ed-aeea-50e08548f87c.jpg -> Annotation:E:/Jupyter Notes/Soft Computing/TFOD/TFODCourse/Tensorflow/workspace/images/collectedimages\\livelong.a64da4d5-c67a-11ed-aeea-50e08548f87c.xml\n",
      "Image:E:\\Jupyter Notes\\Soft Computing\\TFOD\\TFODCourse\\Tensorflow\\workspace\\images\\collectedimages\\livelong\\livelong.a7832c14-c67a-11ed-ba7c-50e08548f87c.jpg -> Annotation:E:/Jupyter Notes/Soft Computing/TFOD/TFODCourse/Tensorflow/workspace/images/collectedimages\\livelong.a7832c14-c67a-11ed-ba7c-50e08548f87c.xml\n",
      "Image:E:\\Jupyter Notes\\Soft Computing\\TFOD\\TFODCourse\\Tensorflow\\workspace\\images\\collectedimages\\livelong\\livelong.a5180301-c67a-11ed-bb47-50e08548f87c.jpg -> Annotation:E:/Jupyter Notes/Soft Computing/TFOD/TFODCourse/Tensorflow/workspace/images/collectedimages\\livelong.a5180301-c67a-11ed-bb47-50e08548f87c.xml\n",
      "Image:E:\\Jupyter Notes\\Soft Computing\\TFOD\\TFODCourse\\Tensorflow\\workspace\\images\\collectedimages\\livelong\\livelong.ab25d555-c67a-11ed-bba4-50e08548f87c.jpg -> Annotation:E:/Jupyter Notes/Soft Computing/TFOD/TFODCourse/Tensorflow/workspace/images/collectedimages\\livelong.ab25d555-c67a-11ed-bba4-50e08548f87c.xml\n",
      "Image:E:\\Jupyter Notes\\Soft Computing\\TFOD\\TFODCourse\\Tensorflow\\workspace\\images\\collectedimages\\livelong\\livelong.ac5dab75-c67a-11ed-b31b-50e08548f87c.jpg -> Annotation:E:/Jupyter Notes/Soft Computing/TFOD/TFODCourse/Tensorflow/workspace/images/collectedimages\\livelong.ac5dab75-c67a-11ed-b31b-50e08548f87c.xml\n",
      "Image:E:\\Jupyter Notes\\Soft Computing\\TFOD\\TFODCourse\\Tensorflow\\workspace\\images\\collectedimages\\livelong\\livelong.ad921798-c67a-11ed-8365-50e08548f87c.jpg -> Annotation:E:/Jupyter Notes/Soft Computing/TFOD/TFODCourse/Tensorflow/workspace/images/collectedimages\\livelong.ad921798-c67a-11ed-8365-50e08548f87c.xml\n",
      "Image:E:\\Jupyter Notes\\Soft Computing\\TFOD\\TFODCourse\\Tensorflow\\workspace\\images\\collectedimages\\livelong\\livelong.aeca3b12-c67a-11ed-8810-50e08548f87c.jpg -> Annotation:E:/Jupyter Notes/Soft Computing/TFOD/TFODCourse/Tensorflow/workspace/images/collectedimages\\livelong.aeca3b12-c67a-11ed-8810-50e08548f87c.xml\n",
      "Image:E:\\Jupyter Notes\\Soft Computing\\TFOD\\TFODCourse\\Tensorflow\\workspace\\images\\collectedimages\\thumbsdown\\thumbsdown.9aa2d078-c67a-11ed-aede-50e08548f87c.jpg -> Annotation:E:/Jupyter Notes/Soft Computing/TFOD/TFODCourse/Tensorflow/workspace/images/collectedimages\\thumbsdown.9aa2d078-c67a-11ed-aede-50e08548f87c.xml\n",
      "Image:E:\\Jupyter Notes\\Soft Computing\\TFOD\\TFODCourse\\Tensorflow\\workspace\\images\\collectedimages\\thumbsdown\\thumbsdown.9be730ad-c67a-11ed-9c86-50e08548f87c.jpg -> Annotation:E:/Jupyter Notes/Soft Computing/TFOD/TFODCourse/Tensorflow/workspace/images/collectedimages\\thumbsdown.9be730ad-c67a-11ed-9c86-50e08548f87c.xml\n",
      "Image:E:\\Jupyter Notes\\Soft Computing\\TFOD\\TFODCourse\\Tensorflow\\workspace\\images\\collectedimages\\thumbsdown\\thumbsdown.9d1d0f87-c67a-11ed-84d4-50e08548f87c.jpg -> Annotation:E:/Jupyter Notes/Soft Computing/TFOD/TFODCourse/Tensorflow/workspace/images/collectedimages\\thumbsdown.9d1d0f87-c67a-11ed-84d4-50e08548f87c.xml\n",
      "Image:E:\\Jupyter Notes\\Soft Computing\\TFOD\\TFODCourse\\Tensorflow\\workspace\\images\\collectedimages\\thumbsdown\\thumbsdown.90eca708-c67a-11ed-af1f-50e08548f87c.jpg -> Annotation:E:/Jupyter Notes/Soft Computing/TFOD/TFODCourse/Tensorflow/workspace/images/collectedimages\\thumbsdown.90eca708-c67a-11ed-af1f-50e08548f87c.xml\n",
      "Image:E:\\Jupyter Notes\\Soft Computing\\TFOD\\TFODCourse\\Tensorflow\\workspace\\images\\collectedimages\\thumbsdown\\thumbsdown.95c602af-c67a-11ed-a509-50e08548f87c.jpg -> Annotation:E:/Jupyter Notes/Soft Computing/TFOD/TFODCourse/Tensorflow/workspace/images/collectedimages\\thumbsdown.95c602af-c67a-11ed-a509-50e08548f87c.xml\n",
      "Image:E:\\Jupyter Notes\\Soft Computing\\TFOD\\TFODCourse\\Tensorflow\\workspace\\images\\collectedimages\\thumbsdown\\thumbsdown.96fc17d3-c67a-11ed-be6e-50e08548f87c.jpg -> Annotation:E:/Jupyter Notes/Soft Computing/TFOD/TFODCourse/Tensorflow/workspace/images/collectedimages\\thumbsdown.96fc17d3-c67a-11ed-be6e-50e08548f87c.xml\n",
      "Image:E:\\Jupyter Notes\\Soft Computing\\TFOD\\TFODCourse\\Tensorflow\\workspace\\images\\collectedimages\\thumbsdown\\thumbsdown.9359bf2a-c67a-11ed-ab7e-50e08548f87c.jpg -> Annotation:E:/Jupyter Notes/Soft Computing/TFOD/TFODCourse/Tensorflow/workspace/images/collectedimages\\thumbsdown.9359bf2a-c67a-11ed-ab7e-50e08548f87c.xml\n",
      "Image:E:\\Jupyter Notes\\Soft Computing\\TFOD\\TFODCourse\\Tensorflow\\workspace\\images\\collectedimages\\thumbsdown\\thumbsdown.9490caeb-c67a-11ed-9376-50e08548f87c.jpg -> Annotation:E:/Jupyter Notes/Soft Computing/TFOD/TFODCourse/Tensorflow/workspace/images/collectedimages\\thumbsdown.9490caeb-c67a-11ed-9376-50e08548f87c.xml\n",
      "Image:E:\\Jupyter Notes\\Soft Computing\\TFOD\\TFODCourse\\Tensorflow\\workspace\\images\\collectedimages\\thumbsdown\\thumbsdown.92244b0f-c67a-11ed-a00a-50e08548f87c.jpg -> Annotation:E:/Jupyter Notes/Soft Computing/TFOD/TFODCourse/Tensorflow/workspace/images/collectedimages\\thumbsdown.92244b0f-c67a-11ed-a00a-50e08548f87c.xml\n",
      "Image:E:\\Jupyter Notes\\Soft Computing\\TFOD\\TFODCourse\\Tensorflow\\workspace\\images\\collectedimages\\thumbsdown\\thumbsdown.99695410-c67a-11ed-9d3d-50e08548f87c.jpg -> Annotation:E:/Jupyter Notes/Soft Computing/TFOD/TFODCourse/Tensorflow/workspace/images/collectedimages\\thumbsdown.99695410-c67a-11ed-9d3d-50e08548f87c.xml\n",
      "Image:E:\\Jupyter Notes\\Soft Computing\\TFOD\\TFODCourse\\Tensorflow\\workspace\\images\\collectedimages\\thumbsup\\thumbsup.7f4b25f4-c67a-11ed-a83a-50e08548f87c.jpg -> Annotation:E:/Jupyter Notes/Soft Computing/TFOD/TFODCourse/Tensorflow/workspace/images/collectedimages\\thumbsup.7f4b25f4-c67a-11ed-a83a-50e08548f87c.xml\n",
      "Image:E:\\Jupyter Notes\\Soft Computing\\TFOD\\TFODCourse\\Tensorflow\\workspace\\images\\collectedimages\\thumbsup\\thumbsup.8a39d0eb-c67a-11ed-8b5c-50e08548f87c.jpg -> Annotation:E:/Jupyter Notes/Soft Computing/TFOD/TFODCourse/Tensorflow/workspace/images/collectedimages\\thumbsup.8a39d0eb-c67a-11ed-8b5c-50e08548f87c.xml\n",
      "Image:E:\\Jupyter Notes\\Soft Computing\\TFOD\\TFODCourse\\Tensorflow\\workspace\\images\\collectedimages\\thumbsup\\thumbsup.8b70e2e7-c67a-11ed-b507-50e08548f87c.jpg -> Annotation:E:/Jupyter Notes/Soft Computing/TFOD/TFODCourse/Tensorflow/workspace/images/collectedimages\\thumbsup.8b70e2e7-c67a-11ed-b507-50e08548f87c.xml\n",
      "Image:E:\\Jupyter Notes\\Soft Computing\\TFOD\\TFODCourse\\Tensorflow\\workspace\\images\\collectedimages\\thumbsup\\thumbsup.81bd4923-c67a-11ed-a64e-50e08548f87c.jpg -> Annotation:E:/Jupyter Notes/Soft Computing/TFOD/TFODCourse/Tensorflow/workspace/images/collectedimages\\thumbsup.81bd4923-c67a-11ed-a64e-50e08548f87c.xml\n",
      "Image:E:\\Jupyter Notes\\Soft Computing\\TFOD\\TFODCourse\\Tensorflow\\workspace\\images\\collectedimages\\thumbsup\\thumbsup.82f210d0-c67a-11ed-921c-50e08548f87c.jpg -> Annotation:E:/Jupyter Notes/Soft Computing/TFOD/TFODCourse/Tensorflow/workspace/images/collectedimages\\thumbsup.82f210d0-c67a-11ed-921c-50e08548f87c.xml\n",
      "Image:E:\\Jupyter Notes\\Soft Computing\\TFOD\\TFODCourse\\Tensorflow\\workspace\\images\\collectedimages\\thumbsup\\thumbsup.87cc102c-c67a-11ed-ac04-50e08548f87c.jpg -> Annotation:E:/Jupyter Notes/Soft Computing/TFOD/TFODCourse/Tensorflow/workspace/images/collectedimages\\thumbsup.87cc102c-c67a-11ed-ac04-50e08548f87c.xml\n",
      "Image:E:\\Jupyter Notes\\Soft Computing\\TFOD\\TFODCourse\\Tensorflow\\workspace\\images\\collectedimages\\thumbsup\\thumbsup.855fde45-c67a-11ed-9f00-50e08548f87c.jpg -> Annotation:E:/Jupyter Notes/Soft Computing/TFOD/TFODCourse/Tensorflow/workspace/images/collectedimages\\thumbsup.855fde45-c67a-11ed-9f00-50e08548f87c.xml\n",
      "Image:E:\\Jupyter Notes\\Soft Computing\\TFOD\\TFODCourse\\Tensorflow\\workspace\\images\\collectedimages\\thumbsup\\thumbsup.8429c7d7-c67a-11ed-ab76-50e08548f87c.jpg -> Annotation:E:/Jupyter Notes/Soft Computing/TFOD/TFODCourse/Tensorflow/workspace/images/collectedimages\\thumbsup.8429c7d7-c67a-11ed-ab76-50e08548f87c.xml\n",
      "Image:E:\\Jupyter Notes\\Soft Computing\\TFOD\\TFODCourse\\Tensorflow\\workspace\\images\\collectedimages\\thumbsup\\thumbsup.8697d641-c67a-11ed-ba5b-50e08548f87c.jpg -> Annotation:E:/Jupyter Notes/Soft Computing/TFOD/TFODCourse/Tensorflow/workspace/images/collectedimages\\thumbsup.8697d641-c67a-11ed-ba5b-50e08548f87c.xml\n",
      "Image:E:\\Jupyter Notes\\Soft Computing\\TFOD\\TFODCourse\\Tensorflow\\workspace\\images\\collectedimages\\thumbsup\\thumbsup.890297fb-c67a-11ed-84a5-50e08548f87c.jpg -> Annotation:E:/Jupyter Notes/Soft Computing/TFOD/TFODCourse/Tensorflow/workspace/images/collectedimages\\thumbsup.890297fb-c67a-11ed-84a5-50e08548f87c.xml\n"
     ]
    }
   ],
   "source": [
    "!cd {LABELIMG_PATH} && python labelImg.py"
   ]
  },
  {
   "cell_type": "markdown",
   "metadata": {},
   "source": [
    "# 6. Move them into a Training and Testing Partition"
   ]
  },
  {
   "cell_type": "markdown",
   "metadata": {},
   "source": [
    "# OPTIONAL - 7. Compress them for Colab Training"
   ]
  },
  {
   "cell_type": "code",
   "execution_count": 23,
   "metadata": {},
   "outputs": [],
   "source": [
    "TRAIN_PATH = os.path.join('Tensorflow', 'workspace', 'images', 'train')\n",
    "TEST_PATH = os.path.join('Tensorflow', 'workspace', 'images', 'test')\n",
    "ARCHIVE_PATH = os.path.join('Tensorflow', 'workspace', 'images', 'archive.tar.gz')"
   ]
  },
  {
   "cell_type": "code",
   "execution_count": 25,
   "metadata": {},
   "outputs": [],
   "source": [
    "!tar -czf {ARCHIVE_PATH} {TRAIN_PATH} {TEST_PATH}"
   ]
  },
  {
   "cell_type": "code",
   "execution_count": null,
   "metadata": {},
   "outputs": [],
   "source": []
  }
 ],
 "metadata": {
  "kernelspec": {
   "display_name": "Python 3 (ipykernel)",
   "language": "python",
   "name": "python3"
  },
  "language_info": {
   "codemirror_mode": {
    "name": "ipython",
    "version": 3
   },
   "file_extension": ".py",
   "mimetype": "text/x-python",
   "name": "python",
   "nbconvert_exporter": "python",
   "pygments_lexer": "ipython3",
   "version": "3.9.16"
  }
 },
 "nbformat": 4,
 "nbformat_minor": 2
}
